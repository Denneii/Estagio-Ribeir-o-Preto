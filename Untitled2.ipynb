{
  "nbformat": 4,
  "nbformat_minor": 0,
  "metadata": {
    "colab": {
      "provenance": [],
      "authorship_tag": "ABX9TyPcRLADpAfTQ0mYTKmRzsb5"
    },
    "kernelspec": {
      "name": "python3",
      "display_name": "Python 3"
    },
    "language_info": {
      "name": "python"
    }
  },
  "cells": [
    {
      "cell_type": "code",
      "execution_count": null,
      "metadata": {
        "colab": {
          "base_uri": "https://localhost:8080/"
        },
        "id": "NSXelo8yWQIZ",
        "outputId": "ab7d0f23-cb59-4923-f3b5-c222c901b4a2"
      },
      "outputs": [
        {
          "output_type": "stream",
          "name": "stdout",
          "text": [
            "Qual dia da semana sera escolhido?\n",
            " terça\n",
            "O que deseja fazer? (0= adicionar, 1= remover e 2= visualizar)\n",
            "0\n",
            "O que Adicionar a lista? \n",
            "vai palestrar\n",
            "Quer adicionar essa tarefa em algum outro dia?(se sim digite o dia se nao digite N)\n",
            "quinta\n",
            "Quer adicionar essa tarefa em algum outro dia?(se sim digite o dia se nao digite N)\n",
            "n\n",
            "terça: ['vai palestrar']\n",
            "Opção inválida. Tente novamente.\n",
            "{'domingo': [], 'segunda': [], 'terça': ['vai palestrar'], 'quarta': [], 'quinta': ['vai palestrar'], 'sexta': [], 'sabado': []}\n"
          ]
        }
      ],
      "source": [
        "\n",
        "semana = {\n",
        "    \"domingo\":[],\n",
        "    \"segunda\":[],\n",
        "    \"terça\":[],\n",
        "    \"quarta\":[],\n",
        "    \"quinta\":[],\n",
        "    \"sexta\":[],\n",
        "    \"sabado\":[]\n",
        "    }\n",
        "filtro=\n",
        "while True:\n",
        "    dia = str(input(\"Qual dia da semana sera escolhido?\\n \")).lower()\n",
        "    opcao = int(input(\"O que deseja fazer? (0= adicionar, 1= remover e 2= visualizar)\\n\"))\n",
        "    if opcao==0:\n",
        "      colocar=str(input(\"O que Adicionar a lista? \\n\")).lower()\n",
        "      adicionar=semana[dia].append(colocar)\n",
        "      while True:\n",
        "        add=str(input(\"Quer adicionar essa tarefa em algum outro dia?(se sim digite o dia se nao digite N)\\n\")).lower()\n",
        "        if add!=\"n\":\n",
        "              adicionar=semana[add].append(colocar)\n",
        "        else:\n",
        "            break\n",
        "\n",
        "    print(f\"{dia}: {semana[dia]}\")\n",
        "    if opcao==1:\n",
        "      print(f\"{dia}: {semana[dia]}\")\n",
        "      remover=int(input(\"O que quer remover?(Escreva a posição)\\n\")).lower()\n",
        "      remove=semana[dia].pop(remover-1)\n",
        "      print(f\"{dia}: {semana[dia]}\")\n",
        "      while True:\n",
        "        add=str(input(\"Quer REMOVER essa tarefa DE algum outro dia?(se sim digite o dia se nao digite N)\\n\")).lower()\n",
        "        if add!=\"n\":\n",
        "          remove=semana[add].pop(remover-1)\n",
        "        else:\n",
        "          break\n",
        "\n",
        "    if opcao==2:\n",
        "        visualizar=print(f\"{dia}: {semana[dia]}\")\n",
        "        while True:\n",
        "          add=str(input(\"Quer visualizar outro dia?(se sim digite o dia se nao digite N)\\n\")).lower()\n",
        "          if add!=\"n\":\n",
        "                print(f\"{add}: {semana[add]}\")\n",
        "          else:\n",
        "                break\n",
        "    else:\n",
        "        print(\"Opção inválida. Tente novamente.\")\n",
        "    gostaria=print(semana)\n",
        "    tabela=(input(\"Gostaria de ver a Sua agenda completa?(se sim digite S, se não digite N)\\n\")).lower()\n",
        "    if tabela != \"n\":\n",
        "      gostaria\n",
        "\n",
        "\n",
        "    end=str(input(\"Deseja continuar?(Se sim digite A, se não digite B)\\n\")).lower()\n",
        "    if end==\"b\":\n",
        "        break\n",
        "\n",
        "\n",
        "\n",
        "\n",
        "\n"
      ]
    },
    {
      "cell_type": "code",
      "source": [],
      "metadata": {
        "id": "GaE4gp_AZQaE"
      },
      "execution_count": null,
      "outputs": []
    }
  ]
}